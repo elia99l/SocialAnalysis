{
 "cells": [
  {
   "cell_type": "code",
   "execution_count": 1,
   "id": "b092c23b-4377-484e-a7b5-59c0b1dd70cd",
   "metadata": {},
   "outputs": [],
   "source": [
    "import pandas as pd\n",
    "import matplotlib.pyplot as plt\n",
    "import networkx as nx\n",
    "import numpy as np\n",
    "import matplotlib.patches as patches"
   ]
  },
  {
   "cell_type": "code",
   "execution_count": 11,
   "id": "01be1eaa-9a2f-4209-8884-763841571552",
   "metadata": {},
   "outputs": [
    {
     "name": "stdout",
     "output_type": "stream",
     "text": [
      "26194\n",
      "28901\n",
      "29787\n",
      "29575\n",
      "29621\n"
     ]
    }
   ],
   "source": [
    "anni= ['2017','2018','2019','2020','2021']\n",
    "densità_del_commercio=[]\n",
    "for a in anni:\n",
    "    baci_data = pd.read_csv(f'C:/Users/Michele/Desktop/UNIBO/2° ANNO/SNA/progetto/BACI_HS17_V202301/BACI_HS17_Y{a}_V202301.csv')\n",
    "    G = nx.from_pandas_edgelist(baci_data, 'i', 'j', create_using=nx.DiGraph())\n",
    "    numero_coppie = G.number_of_edges()\n",
    "    # Calcola la densità\n",
    "    densità = (numero_coppie / 50850) * 100  # 50850 è il numero massimo di combinazioni possibili per 226 paesi\n",
    "    densità_del_commercio.append(densità)\n",
    "    print(G.number_of_edges())"
   ]
  },
  {
   "cell_type": "code",
   "execution_count": 9,
   "id": "7dc9bec0-03f4-4c5b-b6cb-30f344bc3149",
   "metadata": {},
   "outputs": [
    {
     "ename": "NameError",
     "evalue": "name 'numero_coppie' is not defined",
     "output_type": "error",
     "traceback": [
      "\u001b[1;31m---------------------------------------------------------------------------\u001b[0m",
      "\u001b[1;31mNameError\u001b[0m                                 Traceback (most recent call last)",
      "Cell \u001b[1;32mIn[9], line 2\u001b[0m\n\u001b[0;32m      1\u001b[0m \u001b[38;5;66;03m# Calcola la densità\u001b[39;00m\n\u001b[1;32m----> 2\u001b[0m densità \u001b[38;5;241m=\u001b[39m (\u001b[43mnumero_coppie\u001b[49m \u001b[38;5;241m/\u001b[39m \u001b[38;5;241m50850\u001b[39m) \u001b[38;5;241m*\u001b[39m \u001b[38;5;241m100\u001b[39m  \u001b[38;5;66;03m# 50850 è il numero massimo di combinazioni possibili per 226 paesi\u001b[39;00m\n\u001b[0;32m      4\u001b[0m densità_del_commercio\u001b[38;5;241m.\u001b[39mappend(densità)\n\u001b[0;32m      6\u001b[0m \u001b[38;5;66;03m# Rappresenta i valori di densità in un grafico cartesiano\u001b[39;00m\n",
      "\u001b[1;31mNameError\u001b[0m: name 'numero_coppie' is not defined"
     ]
    }
   ],
   "source": [
    "# Rappresenta i valori di densità in un grafico cartesiano\n",
    "plt.plot(anni, densità_del_commercio, marker='o', linestyle='-')\n",
    "plt.xlabel('Anno')\n",
    "plt.ylabel('Densità del flusso di commercio (%)')\n",
    "plt.title('Variazione della densità del flusso di commercio per gli anni 2017-2021')\n",
    "plt.grid(True)\n",
    "plt.show()"
   ]
  },
  {
   "cell_type": "code",
   "execution_count": null,
   "id": "d1a6a3aa-2ced-497d-ad6e-f94943cf1bef",
   "metadata": {},
   "outputs": [],
   "source": []
  }
 ],
 "metadata": {
  "kernelspec": {
   "display_name": "Python 3 (ipykernel)",
   "language": "python",
   "name": "python3"
  },
  "language_info": {
   "codemirror_mode": {
    "name": "ipython",
    "version": 3
   },
   "file_extension": ".py",
   "mimetype": "text/x-python",
   "name": "python",
   "nbconvert_exporter": "python",
   "pygments_lexer": "ipython3",
   "version": "3.11.4"
  }
 },
 "nbformat": 4,
 "nbformat_minor": 5
}
